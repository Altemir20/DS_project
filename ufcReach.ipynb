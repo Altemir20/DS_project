{
 "cells": [
  {
   "cell_type": "code",
   "execution_count": 58,
   "metadata": {},
   "outputs": [],
   "source": [
    "# Web Scraping\n",
    "from bs4 import BeautifulSoup\n",
    "import requests\n",
    "\n",
    "# Data Cleaning/Feature Engineering\n",
    "import numpy as np\n",
    "import pandas as pd\n",
    "\n",
    "# Visualisation\n",
    "import seaborn as sns\n",
    "import matplotlib.pyplot as plt\n",
    "\n",
    "# Statistical Analysis\n",
    "import statsmodels as sm\n",
    "from statsmodels.formula.api import ols\n",
    "from statsmodels.graphics.gofplots import qqplot\n",
    "from scipy.stats import levene\n",
    "from statsmodels.stats.anova import anova_lm\n",
    "from statsmodels.stats.multitest import multipletests\n",
    "from statsmodels.stats.multicomp import pairwise_tukeyhsd\n",
    "from statsmodels.sandbox.stats.multicomp import TukeyHSDResults\n",
    "\n",
    "# Miscellaneous\n",
    "import string\n",
    "import time"
   ]
  },
  {
   "cell_type": "code",
   "execution_count": 59,
   "metadata": {},
   "outputs": [],
   "source": [
    "from bs4 import BeautifulSoup\n",
    "import requests\n",
    "\n",
    "alphabet = string.ascii_lowercase\n",
    "\n",
    "fighter_details = {}\n",
    "\n",
    "for letter in alphabet:\n",
    "\n",
    "    response = requests.get(f\"http://www.ufcstats.com/statistics/fighters?char={letter}&page=all\")\n",
    "    \n",
    "    soup = BeautifulSoup(response.text, \"lxml\")\n",
    "    \n",
    "    fighter_details[letter] = soup.find_all(\"td\",{'class':'b-statistics__table-col'})"
   ]
  },
  {
   "cell_type": "code",
   "execution_count": 60,
   "metadata": {},
   "outputs": [],
   "source": [
    "fighter_first_names = []\n",
    "\n",
    "for key, value in fighter_details.items():\n",
    "    for fighter in np.arange(0, len(fighter_details[key]), 11):\n",
    "        fighter_first_name = value[fighter].text.split(\"\\n\")[1]\n",
    "        fighter_first_names.append(fighter_first_name)"
   ]
  },
  {
   "cell_type": "code",
   "execution_count": 61,
   "metadata": {},
   "outputs": [],
   "source": [
    "fighter_last_names = []\n",
    "\n",
    "for key, value in fighter_details.items():\n",
    "    for fighter in np.arange(1, len(fighter_details[key]) + 1, 11):\n",
    "        fighter_last_name = value[fighter].text.split(\"\\n\")[1]\n",
    "        fighter_last_names.append(fighter_last_name)"
   ]
  },
  {
   "cell_type": "code",
   "execution_count": 62,
   "metadata": {},
   "outputs": [],
   "source": [
    "fighter_nick_names = []\n",
    "\n",
    "for key, value in fighter_details.items():\n",
    "    for fighter in np.arange(2, len(fighter_details[key]) + 2, 11):\n",
    "        fighter_nick_name = value[fighter].text.split(\"\\n\")[1]\n",
    "        fighter_nick_names.append(fighter_nick_name)"
   ]
  },
  {
   "cell_type": "code",
   "execution_count": 63,
   "metadata": {},
   "outputs": [],
   "source": [
    "fighter_heights = []\n",
    "\n",
    "for key, value in fighter_details.items():\n",
    "    for fighter in np.arange(3, len(fighter_details[key]) + 3, 11):\n",
    "        fighter_height = value[fighter].text.split(\"\\n\")[1][10:]\n",
    "        fighter_heights.append(fighter_height)"
   ]
  },
  {
   "cell_type": "code",
   "execution_count": 64,
   "metadata": {},
   "outputs": [],
   "source": [
    "fighter_weights = []\n",
    "\n",
    "for key, value in fighter_details.items():\n",
    "    for fighter in np.arange(4, len(fighter_details[key]) + 4, 11):\n",
    "        fighter_weight = value[fighter].text.split(\"\\n\")[1][10:13]\n",
    "        fighter_weights.append(fighter_weight)"
   ]
  },
  {
   "cell_type": "code",
   "execution_count": 65,
   "metadata": {},
   "outputs": [],
   "source": [
    "fighter_reaches = []\n",
    "\n",
    "for key, value in fighter_details.items():\n",
    "    for fighter in np.arange(5, len(fighter_details[key]) + 5, 11):\n",
    "        fighter_reach = value[fighter].text.split(\"\\n\")[1][10:14]\n",
    "        fighter_reaches.append(fighter_reach)"
   ]
  },
  {
   "cell_type": "code",
   "execution_count": 66,
   "metadata": {},
   "outputs": [],
   "source": [
    "fighter_stances = []\n",
    "\n",
    "for key, value in fighter_details.items():\n",
    "    for fighter in np.arange(6, len(fighter_details[key]) + 6, 11):\n",
    "        fighter_stance = value[fighter].text.split(\"\\n\")[1][10:]\n",
    "        fighter_stances.append(fighter_stance)"
   ]
  },
  {
   "cell_type": "code",
   "execution_count": 67,
   "metadata": {},
   "outputs": [],
   "source": [
    "fighter_wins = []\n",
    "\n",
    "for key, value in fighter_details.items():\n",
    "    for fighter in np.arange(7, len(fighter_details[key]) + 7, 11):\n",
    "        fighter_win = value[fighter].text.split(\"\\n\")[1][10:]\n",
    "        fighter_wins.append(fighter_win)"
   ]
  },
  {
   "cell_type": "code",
   "execution_count": 68,
   "metadata": {},
   "outputs": [],
   "source": [
    "fighter_losses = []\n",
    "\n",
    "for key, value in fighter_details.items():\n",
    "    for fighter in np.arange(8, len(fighter_details[key]) + 8, 11):\n",
    "        fighter_loss = value[fighter].text.split(\"\\n\")[1][10:]\n",
    "        fighter_losses.append(fighter_loss)"
   ]
  },
  {
   "cell_type": "code",
   "execution_count": 69,
   "metadata": {},
   "outputs": [],
   "source": [
    "fighter_draws = []\n",
    "\n",
    "for key, value in fighter_details.items():\n",
    "    for fighter in np.arange(9, len(fighter_details[key]) + 9, 11):\n",
    "        fighter_draw = value[fighter].text.split(\"\\n\")[1][10:]\n",
    "        fighter_draws.append(fighter_draw)"
   ]
  },
  {
   "cell_type": "code",
   "execution_count": 70,
   "metadata": {},
   "outputs": [],
   "source": [
    "fighter_df = pd.DataFrame(fighter_last_names)\n",
    "fighter_df.rename(columns={0:\"last_name\"}, inplace = True)\n",
    "\n",
    "fighter_df[\"first_name\"] = fighter_first_names\n",
    "fighter_df[\"nick_name\"] = fighter_nick_names\n",
    "fighter_df[\"height\"] = fighter_heights\n",
    "fighter_df[\"weight\"] = fighter_weights\n",
    "fighter_df[\"reach\"] = fighter_reaches\n",
    "fighter_df[\"stance\"] = fighter_stances\n",
    "fighter_df[\"wins\"] = fighter_wins\n",
    "fighter_df[\"losses\"] = fighter_losses\n",
    "fighter_df[\"draws\"] = fighter_draws"
   ]
  },
  {
   "cell_type": "code",
   "execution_count": 71,
   "metadata": {},
   "outputs": [
    {
     "data": {
      "text/plain": [
       "3417"
      ]
     },
     "execution_count": 71,
     "metadata": {},
     "output_type": "execute_result"
    }
   ],
   "source": [
    "len(fighter_df['reach'])"
   ]
  },
  {
   "cell_type": "code",
   "execution_count": 72,
   "metadata": {},
   "outputs": [
    {
     "data": {
      "text/plain": [
       "(3417, 10)"
      ]
     },
     "execution_count": 72,
     "metadata": {},
     "output_type": "execute_result"
    }
   ],
   "source": [
    "fighter_df.shape"
   ]
  },
  {
   "cell_type": "code",
   "execution_count": 73,
   "metadata": {},
   "outputs": [
    {
     "data": {
      "text/html": [
       "<div>\n",
       "<style scoped>\n",
       "    .dataframe tbody tr th:only-of-type {\n",
       "        vertical-align: middle;\n",
       "    }\n",
       "\n",
       "    .dataframe tbody tr th {\n",
       "        vertical-align: top;\n",
       "    }\n",
       "\n",
       "    .dataframe thead th {\n",
       "        text-align: right;\n",
       "    }\n",
       "</style>\n",
       "<table border=\"1\" class=\"dataframe\">\n",
       "  <thead>\n",
       "    <tr style=\"text-align: right;\">\n",
       "      <th></th>\n",
       "      <th>last_name</th>\n",
       "      <th>first_name</th>\n",
       "      <th>nick_name</th>\n",
       "      <th>height</th>\n",
       "      <th>weight</th>\n",
       "      <th>reach</th>\n",
       "      <th>stance</th>\n",
       "      <th>wins</th>\n",
       "      <th>losses</th>\n",
       "      <th>draws</th>\n",
       "    </tr>\n",
       "  </thead>\n",
       "  <tbody>\n",
       "    <tr>\n",
       "      <th>0</th>\n",
       "      <td>Aaron</td>\n",
       "      <td>Tom</td>\n",
       "      <td></td>\n",
       "      <td>--</td>\n",
       "      <td>155</td>\n",
       "      <td>--</td>\n",
       "      <td></td>\n",
       "      <td>5</td>\n",
       "      <td>3</td>\n",
       "      <td>0</td>\n",
       "    </tr>\n",
       "    <tr>\n",
       "      <th>1</th>\n",
       "      <td>Abbadi</td>\n",
       "      <td>Danny</td>\n",
       "      <td>The Assassin</td>\n",
       "      <td>5' 11\"</td>\n",
       "      <td>155</td>\n",
       "      <td>--</td>\n",
       "      <td>Orthodox</td>\n",
       "      <td>4</td>\n",
       "      <td>6</td>\n",
       "      <td>0</td>\n",
       "    </tr>\n",
       "    <tr>\n",
       "      <th>2</th>\n",
       "      <td>Abbott</td>\n",
       "      <td>David</td>\n",
       "      <td>Tank</td>\n",
       "      <td>6' 0\"</td>\n",
       "      <td>265</td>\n",
       "      <td>--</td>\n",
       "      <td>Switch</td>\n",
       "      <td>10</td>\n",
       "      <td>14</td>\n",
       "      <td>0</td>\n",
       "    </tr>\n",
       "    <tr>\n",
       "      <th>3</th>\n",
       "      <td>Abdurakhimov</td>\n",
       "      <td>Shamil</td>\n",
       "      <td>Abrek</td>\n",
       "      <td>6' 3\"</td>\n",
       "      <td>235</td>\n",
       "      <td>76.0</td>\n",
       "      <td>Orthodox</td>\n",
       "      <td>20</td>\n",
       "      <td>5</td>\n",
       "      <td>0</td>\n",
       "    </tr>\n",
       "    <tr>\n",
       "      <th>4</th>\n",
       "      <td>Abe</td>\n",
       "      <td>Hiroyuki</td>\n",
       "      <td>Abe Ani</td>\n",
       "      <td>5' 6\"</td>\n",
       "      <td>145</td>\n",
       "      <td>--</td>\n",
       "      <td>Orthodox</td>\n",
       "      <td>8</td>\n",
       "      <td>14</td>\n",
       "      <td>3</td>\n",
       "    </tr>\n",
       "  </tbody>\n",
       "</table>\n",
       "</div>"
      ],
      "text/plain": [
       "      last_name first_name     nick_name  height weight reach    stance wins  \\\n",
       "0         Aaron        Tom                    --    155    --              5   \n",
       "1        Abbadi      Danny  The Assassin  5' 11\"    155    --  Orthodox    4   \n",
       "2        Abbott      David          Tank   6' 0\"    265    --    Switch   10   \n",
       "3  Abdurakhimov     Shamil         Abrek   6' 3\"    235  76.0  Orthodox   20   \n",
       "4           Abe   Hiroyuki       Abe Ani   5' 6\"    145    --  Orthodox    8   \n",
       "\n",
       "  losses draws  \n",
       "0      3     0  \n",
       "1      6     0  \n",
       "2     14     0  \n",
       "3      5     0  \n",
       "4     14     3  "
      ]
     },
     "execution_count": 73,
     "metadata": {},
     "output_type": "execute_result"
    }
   ],
   "source": [
    "fighter_df.head()"
   ]
  },
  {
   "cell_type": "code",
   "execution_count": 74,
   "metadata": {},
   "outputs": [
    {
     "data": {
      "text/html": [
       "<div>\n",
       "<style scoped>\n",
       "    .dataframe tbody tr th:only-of-type {\n",
       "        vertical-align: middle;\n",
       "    }\n",
       "\n",
       "    .dataframe tbody tr th {\n",
       "        vertical-align: top;\n",
       "    }\n",
       "\n",
       "    .dataframe thead th {\n",
       "        text-align: right;\n",
       "    }\n",
       "</style>\n",
       "<table border=\"1\" class=\"dataframe\">\n",
       "  <thead>\n",
       "    <tr style=\"text-align: right;\">\n",
       "      <th></th>\n",
       "      <th>last_name</th>\n",
       "      <th>first_name</th>\n",
       "      <th>nick_name</th>\n",
       "      <th>height</th>\n",
       "      <th>weight</th>\n",
       "      <th>reach</th>\n",
       "      <th>stance</th>\n",
       "      <th>wins</th>\n",
       "      <th>losses</th>\n",
       "      <th>draws</th>\n",
       "    </tr>\n",
       "  </thead>\n",
       "  <tbody>\n",
       "    <tr>\n",
       "      <th>1934</th>\n",
       "      <td>McGregor</td>\n",
       "      <td>Conor</td>\n",
       "      <td>The Notorious</td>\n",
       "      <td>5' 9\"</td>\n",
       "      <td>155</td>\n",
       "      <td>74.0</td>\n",
       "      <td>Southpaw</td>\n",
       "      <td>22</td>\n",
       "      <td>4</td>\n",
       "      <td>0</td>\n",
       "    </tr>\n",
       "  </tbody>\n",
       "</table>\n",
       "</div>"
      ],
      "text/plain": [
       "     last_name first_name      nick_name height weight reach    stance wins  \\\n",
       "1934  McGregor      Conor  The Notorious  5' 9\"    155  74.0  Southpaw   22   \n",
       "\n",
       "     losses draws  \n",
       "1934      4     0  "
      ]
     },
     "execution_count": 74,
     "metadata": {},
     "output_type": "execute_result"
    }
   ],
   "source": [
    "fighter_df[fighter_df['last_name']=='McGregor']"
   ]
  },
  {
   "cell_type": "code",
   "execution_count": 75,
   "metadata": {},
   "outputs": [],
   "source": [
    "df_null = fighter_df[fighter_df['reach']=='--'].index"
   ]
  },
  {
   "cell_type": "code",
   "execution_count": 76,
   "metadata": {},
   "outputs": [],
   "source": [
    "fighter_df.drop(df_null,inplace=True)"
   ]
  },
  {
   "cell_type": "code",
   "execution_count": 77,
   "metadata": {},
   "outputs": [
    {
     "data": {
      "text/html": [
       "<div>\n",
       "<style scoped>\n",
       "    .dataframe tbody tr th:only-of-type {\n",
       "        vertical-align: middle;\n",
       "    }\n",
       "\n",
       "    .dataframe tbody tr th {\n",
       "        vertical-align: top;\n",
       "    }\n",
       "\n",
       "    .dataframe thead th {\n",
       "        text-align: right;\n",
       "    }\n",
       "</style>\n",
       "<table border=\"1\" class=\"dataframe\">\n",
       "  <thead>\n",
       "    <tr style=\"text-align: right;\">\n",
       "      <th></th>\n",
       "      <th>last_name</th>\n",
       "      <th>first_name</th>\n",
       "      <th>nick_name</th>\n",
       "      <th>height</th>\n",
       "      <th>weight</th>\n",
       "      <th>reach</th>\n",
       "      <th>stance</th>\n",
       "      <th>wins</th>\n",
       "      <th>losses</th>\n",
       "      <th>draws</th>\n",
       "    </tr>\n",
       "  </thead>\n",
       "  <tbody>\n",
       "    <tr>\n",
       "      <th>3</th>\n",
       "      <td>Abdurakhimov</td>\n",
       "      <td>Shamil</td>\n",
       "      <td>Abrek</td>\n",
       "      <td>6' 3\"</td>\n",
       "      <td>235</td>\n",
       "      <td>76.0</td>\n",
       "      <td>Orthodox</td>\n",
       "      <td>20</td>\n",
       "      <td>5</td>\n",
       "      <td>0</td>\n",
       "    </tr>\n",
       "    <tr>\n",
       "      <th>5</th>\n",
       "      <td>Abe</td>\n",
       "      <td>Daichi</td>\n",
       "      <td></td>\n",
       "      <td>5' 11\"</td>\n",
       "      <td>170</td>\n",
       "      <td>71.0</td>\n",
       "      <td>Orthodox</td>\n",
       "      <td>6</td>\n",
       "      <td>2</td>\n",
       "      <td>0</td>\n",
       "    </tr>\n",
       "    <tr>\n",
       "      <th>6</th>\n",
       "      <td>Abedi</td>\n",
       "      <td>Papy</td>\n",
       "      <td>Makambo</td>\n",
       "      <td>5' 11\"</td>\n",
       "      <td>185</td>\n",
       "      <td>74.0</td>\n",
       "      <td>Southpaw</td>\n",
       "      <td>9</td>\n",
       "      <td>3</td>\n",
       "      <td>0</td>\n",
       "    </tr>\n",
       "    <tr>\n",
       "      <th>7</th>\n",
       "      <td>Abreu</td>\n",
       "      <td>Ricardo</td>\n",
       "      <td>Demente</td>\n",
       "      <td>5' 11\"</td>\n",
       "      <td>185</td>\n",
       "      <td>73.0</td>\n",
       "      <td>Orthodox</td>\n",
       "      <td>5</td>\n",
       "      <td>3</td>\n",
       "      <td>0</td>\n",
       "    </tr>\n",
       "    <tr>\n",
       "      <th>8</th>\n",
       "      <td>Abreu</td>\n",
       "      <td>Klidson</td>\n",
       "      <td>White Bear</td>\n",
       "      <td>6' 0\"</td>\n",
       "      <td>205</td>\n",
       "      <td>74.0</td>\n",
       "      <td>Orthodox</td>\n",
       "      <td>15</td>\n",
       "      <td>4</td>\n",
       "      <td>0</td>\n",
       "    </tr>\n",
       "  </tbody>\n",
       "</table>\n",
       "</div>"
      ],
      "text/plain": [
       "      last_name first_name   nick_name  height weight reach    stance wins  \\\n",
       "3  Abdurakhimov     Shamil       Abrek   6' 3\"    235  76.0  Orthodox   20   \n",
       "5           Abe     Daichi              5' 11\"    170  71.0  Orthodox    6   \n",
       "6         Abedi       Papy     Makambo  5' 11\"    185  74.0  Southpaw    9   \n",
       "7         Abreu    Ricardo     Demente  5' 11\"    185  73.0  Orthodox    5   \n",
       "8         Abreu    Klidson  White Bear   6' 0\"    205  74.0  Orthodox   15   \n",
       "\n",
       "  losses draws  \n",
       "3      5     0  \n",
       "5      2     0  \n",
       "6      3     0  \n",
       "7      3     0  \n",
       "8      4     0  "
      ]
     },
     "execution_count": 77,
     "metadata": {},
     "output_type": "execute_result"
    }
   ],
   "source": [
    "fighter_df.head()"
   ]
  },
  {
   "cell_type": "code",
   "execution_count": 79,
   "metadata": {},
   "outputs": [],
   "source": [
    "fighter_df.sort_values(by='weight',inplace=True)"
   ]
  },
  {
   "cell_type": "code",
   "execution_count": 82,
   "metadata": {},
   "outputs": [
    {
     "data": {
      "text/html": [
       "<div>\n",
       "<style scoped>\n",
       "    .dataframe tbody tr th:only-of-type {\n",
       "        vertical-align: middle;\n",
       "    }\n",
       "\n",
       "    .dataframe tbody tr th {\n",
       "        vertical-align: top;\n",
       "    }\n",
       "\n",
       "    .dataframe thead th {\n",
       "        text-align: right;\n",
       "    }\n",
       "</style>\n",
       "<table border=\"1\" class=\"dataframe\">\n",
       "  <thead>\n",
       "    <tr style=\"text-align: right;\">\n",
       "      <th></th>\n",
       "      <th>last_name</th>\n",
       "      <th>first_name</th>\n",
       "      <th>nick_name</th>\n",
       "      <th>height</th>\n",
       "      <th>weight</th>\n",
       "      <th>reach</th>\n",
       "      <th>stance</th>\n",
       "      <th>wins</th>\n",
       "      <th>losses</th>\n",
       "      <th>draws</th>\n",
       "    </tr>\n",
       "  </thead>\n",
       "  <tbody>\n",
       "    <tr>\n",
       "      <th>1592</th>\n",
       "      <td>Kondo</td>\n",
       "      <td>Syuri</td>\n",
       "      <td></td>\n",
       "      <td>5' 4\"</td>\n",
       "      <td>115</td>\n",
       "      <td>66.0</td>\n",
       "      <td>Orthodox</td>\n",
       "      <td>6</td>\n",
       "      <td>3</td>\n",
       "      <td>0</td>\n",
       "    </tr>\n",
       "    <tr>\n",
       "      <th>1409</th>\n",
       "      <td>Jandiroba</td>\n",
       "      <td>Virna</td>\n",
       "      <td>Carcara</td>\n",
       "      <td>5' 3\"</td>\n",
       "      <td>115</td>\n",
       "      <td>64.0</td>\n",
       "      <td>Orthodox</td>\n",
       "      <td>15</td>\n",
       "      <td>1</td>\n",
       "      <td>0</td>\n",
       "    </tr>\n",
       "    <tr>\n",
       "      <th>1420</th>\n",
       "      <td>Jedrzejczyk</td>\n",
       "      <td>Joanna</td>\n",
       "      <td></td>\n",
       "      <td>5' 6\"</td>\n",
       "      <td>115</td>\n",
       "      <td>65.0</td>\n",
       "      <td>Orthodox</td>\n",
       "      <td>16</td>\n",
       "      <td>4</td>\n",
       "      <td>0</td>\n",
       "    </tr>\n",
       "    <tr>\n",
       "      <th>1428</th>\n",
       "      <td>Jeon</td>\n",
       "      <td>Chanmi</td>\n",
       "      <td>Ottogi Girl</td>\n",
       "      <td>5' 5\"</td>\n",
       "      <td>115</td>\n",
       "      <td>67.0</td>\n",
       "      <td>Orthodox</td>\n",
       "      <td>5</td>\n",
       "      <td>2</td>\n",
       "      <td>0</td>\n",
       "    </tr>\n",
       "    <tr>\n",
       "      <th>1473</th>\n",
       "      <td>Jones-Lybarger</td>\n",
       "      <td>Jocelyn</td>\n",
       "      <td></td>\n",
       "      <td>5' 7\"</td>\n",
       "      <td>115</td>\n",
       "      <td>64.0</td>\n",
       "      <td>Orthodox</td>\n",
       "      <td>6</td>\n",
       "      <td>4</td>\n",
       "      <td>0</td>\n",
       "    </tr>\n",
       "  </tbody>\n",
       "</table>\n",
       "</div>"
      ],
      "text/plain": [
       "           last_name first_name    nick_name height weight reach    stance  \\\n",
       "1592           Kondo      Syuri               5' 4\"    115  66.0  Orthodox   \n",
       "1409       Jandiroba      Virna      Carcara  5' 3\"    115  64.0  Orthodox   \n",
       "1420     Jedrzejczyk     Joanna               5' 6\"    115  65.0  Orthodox   \n",
       "1428            Jeon     Chanmi  Ottogi Girl  5' 5\"    115  67.0  Orthodox   \n",
       "1473  Jones-Lybarger    Jocelyn               5' 7\"    115  64.0  Orthodox   \n",
       "\n",
       "     wins losses draws  \n",
       "1592    6      3     0  \n",
       "1409   15      1     0  \n",
       "1420   16      4     0  \n",
       "1428    5      2     0  \n",
       "1473    6      4     0  "
      ]
     },
     "execution_count": 82,
     "metadata": {},
     "output_type": "execute_result"
    }
   ],
   "source": [
    "fighter_df.head()"
   ]
  },
  {
   "cell_type": "code",
   "execution_count": 84,
   "metadata": {},
   "outputs": [
    {
     "data": {
      "text/plain": [
       "array(['115', '125', '135', '139', '145', '155', '168', '170', '185',\n",
       "       '205', '225', '230', '231', '234', '235', '238', '240', '241',\n",
       "       '242', '243', '244', '245', '246', '247', '249', '250', '251',\n",
       "       '253', '255', '257', '258', '260', '262', '263', '264', '265'],\n",
       "      dtype=object)"
      ]
     },
     "execution_count": 84,
     "metadata": {},
     "output_type": "execute_result"
    }
   ],
   "source": [
    "fighter_df.weight.unique()"
   ]
  },
  {
   "cell_type": "code",
   "execution_count": 108,
   "metadata": {},
   "outputs": [],
   "source": [
    "fighter_df[\"wins\"] = fighter_df[\"wins\"].astype(int)\n",
    "fighter_df[\"losses\"] = fighter_df[\"losses\"].astype(int)\n",
    "fighter_df[\"draws\"] = fighter_df[\"draws\"].astype(int)"
   ]
  },
  {
   "cell_type": "code",
   "execution_count": 109,
   "metadata": {},
   "outputs": [],
   "source": [
    "fighter_df[\"total_fights\"] = fighter_df.wins + fighter_df.losses + fighter_df.draws\n",
    "fighter_df[\"win_ratio\"] = round((fighter_df.wins)/(fighter_df.total_fights), 2)"
   ]
  },
  {
   "cell_type": "code",
   "execution_count": 113,
   "metadata": {},
   "outputs": [
    {
     "data": {
      "text/plain": [
       "170    292\n",
       "155    284\n",
       "135    229\n",
       "145    213\n",
       "185    206\n",
       "205    150\n",
       "125    132\n",
       "115     64\n",
       "265     27\n",
       "250     14\n",
       "240     13\n",
       "245     10\n",
       "260      9\n",
       "230      8\n",
       "255      7\n",
       "264      6\n",
       "242      5\n",
       "247      5\n",
       "235      3\n",
       "225      3\n",
       "238      2\n",
       "243      2\n",
       "253      2\n",
       "258      2\n",
       "249      2\n",
       "251      1\n",
       "263      1\n",
       "139      1\n",
       "168      1\n",
       "246      1\n",
       "244      1\n",
       "231      1\n",
       "234      1\n",
       "241      1\n",
       "257      1\n",
       "262      1\n",
       "Name: weight, dtype: int64"
      ]
     },
     "execution_count": 113,
     "metadata": {},
     "output_type": "execute_result"
    }
   ],
   "source": [
    "fighter_df.weight.value_counts().sort_values(ascending=False)"
   ]
  },
  {
   "cell_type": "code",
   "execution_count": 114,
   "metadata": {},
   "outputs": [],
   "source": [
    "fighter_df = fighter_df[fighter_df['total_fights'] >=5]"
   ]
  },
  {
   "cell_type": "code",
   "execution_count": 115,
   "metadata": {},
   "outputs": [
    {
     "data": {
      "text/plain": [
       "(1689, 12)"
      ]
     },
     "execution_count": 115,
     "metadata": {},
     "output_type": "execute_result"
    }
   ],
   "source": [
    "fighter_df.shape"
   ]
  },
  {
   "cell_type": "code",
   "execution_count": 116,
   "metadata": {},
   "outputs": [
    {
     "data": {
      "text/plain": [
       "0"
      ]
     },
     "execution_count": 116,
     "metadata": {},
     "output_type": "execute_result"
    }
   ],
   "source": [
    "fighter_df.isnull().sum().sum()"
   ]
  },
  {
   "cell_type": "code",
   "execution_count": null,
   "metadata": {},
   "outputs": [],
   "source": []
  }
 ],
 "metadata": {
  "kernelspec": {
   "display_name": "Python 3",
   "language": "python",
   "name": "python3"
  },
  "language_info": {
   "codemirror_mode": {
    "name": "ipython",
    "version": 3
   },
   "file_extension": ".py",
   "mimetype": "text/x-python",
   "name": "python",
   "nbconvert_exporter": "python",
   "pygments_lexer": "ipython3",
   "version": "3.7.6"
  }
 },
 "nbformat": 4,
 "nbformat_minor": 4
}
